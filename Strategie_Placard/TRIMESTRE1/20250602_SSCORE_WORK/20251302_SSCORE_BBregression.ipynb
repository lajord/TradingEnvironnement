{
 "cells": [
  {
   "cell_type": "code",
   "execution_count": 1,
   "metadata": {},
   "outputs": [],
   "source": [
    "import numpy as np\n",
    "from numba import njit\n",
    "import pandas as pd\n",
    "import vectorbt as vbt\n",
    "import vectorbt as vbt\n",
    "from vectorbt.utils.colors import adjust_opacity\n",
    "from vectorbt.utils.enum_ import map_enum_fields\n",
    "from vectorbt.base.reshape_fns import broadcast, flex_select_auto_nb, to_2d_array\n",
    "from vectorbt.portfolio.enums import SizeType, Direction, NoOrder, OrderStatus, OrderSide\n",
    "from vectorbt.portfolio import nb\n",
    "import sys\n",
    "import os\n",
    "function_essential_path = r\"H:\\Desktop\\Environement_Trading_Developement\\FunctionEssential\"\n",
    "function_s_score_path = r'H:\\Desktop\\Environement_Trading_Developement\\Indicateur'\n",
    "sys.path.append(function_essential_path)\n",
    "sys.path.append(function_s_score_path)\n",
    "import utils as us\n",
    "import s_score as score\n"
   ]
  },
  {
   "cell_type": "code",
   "execution_count": 4,
   "metadata": {},
   "outputs": [],
   "source": [
    "def BRQ(close, window=50, k=2):\n",
    "    x = np.arange(window)  \n",
    "    brq_center = []\n",
    "    brq_upper = []\n",
    "    brq_lower = []\n",
    "    pentes = []\n",
    "    courbures = []\n",
    "    for i in range(len(close) - window + 1):\n",
    "        y = close[i:i+window].values\n",
    "\n",
    "        # Ici on vient poser les matrices de tel sorte a pouvoir faire la regression linéaire\n",
    "        X = np.vstack([x**2, x, np.ones_like(x)]).T  \n",
    "        coeffs = np.linalg.lstsq(X, y, rcond=None)[0]\n",
    "        fitted_curve = X @ coeffs  \n",
    "        \n",
    "\n",
    "        residuals = y - fitted_curve\n",
    "        sigma = np.std(residuals)\n",
    "        \n",
    "\n",
    "        brq_center.append(fitted_curve[-1])\n",
    "        brq_upper.append(fitted_curve[-1] + k * sigma)\n",
    "        brq_lower.append(fitted_curve[-1] - k * sigma)\n",
    "\n",
    "        a, b, _ = coeffs\n",
    "        pente = 2 * a * (window - 1) + b  # P'(t) = 2a*t + b, évalué au dernier point\n",
    "        pentes.append(pente)\n",
    "\n",
    "        courbure = 2 * a  # P''(t) = 2a (constante)\n",
    "        courbures.append(courbure)\n",
    "\n",
    "    # Complétion des premiers points avec NaN\n",
    "    nan_pad = [np.nan] * (window - 1)\n",
    "    \n",
    "    brq_center = nan_pad + brq_center\n",
    "    brq_upper = nan_pad + brq_upper\n",
    "    brq_lower = nan_pad + brq_lower\n",
    "    pentes = nan_pad + pentes\n",
    "    courbures = nan_pad + courbures\n",
    "\n",
    "    return brq_center, brq_upper, brq_lower, pentes, courbures\n",
    "\n",
    "\n"
   ]
  },
  {
   "cell_type": "code",
   "execution_count": 55,
   "metadata": {},
   "outputs": [],
   "source": [
    "def entries_trades(close, brq_upper, brq_low, sscore, pente, inflexion, seuil):\n",
    "    entries_long = [False] * len(close)\n",
    "    entries_short = [False] * len(close)\n",
    "\n",
    "    for i in range(len(close)):\n",
    "        # Condition pour SHORT\n",
    "        if (sscore.iloc[i] >= seuil):\n",
    "            for j in range(i, min(len(close), i + 5)):  # Correction de la parenthèse\n",
    "                if pente.iloc[j] < 0 and inflexion.iloc[j] < 0:\n",
    "                    entries_short[j] = True\n",
    "\n",
    "        # Condition pour LONG\n",
    "        if (sscore.iloc[i] <= -seuil):\n",
    "            for j in range(i, min(len(close), i + 5)):  # Correction de la parenthèse\n",
    "                if pente.iloc[j] > 0 and inflexion.iloc[j] > 0:\n",
    "                    entries_long[j] = True\n",
    "\n",
    "    return entries_long, entries_short\n"
   ]
  },
  {
   "cell_type": "code",
   "execution_count": 59,
   "metadata": {},
   "outputs": [],
   "source": [
    "##CLASS STRATEGIE##\n",
    "\n",
    "@njit\n",
    "def pre_sim_func_nb(c):\n",
    "    entry_price = np.full(c.target_shape[1], np.nan, dtype=np.float64)  \n",
    "    return (entry_price,)\n",
    "\n",
    "@njit\n",
    "def order_func_nb(c, entry_price, long, short, stop_loss, take_profit, size):\n",
    "    price_now = nb.get_elem_nb(c, c.close)\n",
    "    entry_long_now = nb.get_elem_nb(c, long)\n",
    "    entry_short_now = nb.get_elem_nb(c, short)\n",
    "\n",
    "    if entry_long_now:\n",
    "        if c.position_now == 0:\n",
    "            return nb.order_nb(\n",
    "                size[c.col], \n",
    "                price=price_now,\n",
    "                direction=Direction.LongOnly,\n",
    "                fees=0.0005\n",
    "            )\n",
    "        elif c.position_now < 0:\n",
    "            return nb.order_nb(\n",
    "                -size[c.col],  \n",
    "                price=price_now,\n",
    "                direction=Direction.ShortOnly,\n",
    "                fees=0.0005\n",
    "            )  \n",
    "\n",
    "    if entry_short_now:\n",
    "        if c.position_now == 0:\n",
    "            return nb.order_nb(\n",
    "                size[c.col], \n",
    "                price=price_now,\n",
    "                direction=Direction.ShortOnly,\n",
    "                fees=0.0005\n",
    "            )\n",
    "        elif c.position_now > 0:\n",
    "            return nb.order_nb(\n",
    "                -size[c.col],  \n",
    "                price=price_now,\n",
    "                direction=Direction.LongOnly,\n",
    "                fees=0.0005\n",
    "            )\n",
    "\n",
    "    if c.position_now > 0:\n",
    "        SL = entry_price[c.col] * (1 - stop_loss[c.col])\n",
    "        TP = entry_price[c.col] * (1 + take_profit[c.col])\n",
    "        \n",
    "        if price_now >= TP:\n",
    "            return nb.order_nb(\n",
    "                -size[c.col],\n",
    "                price=TP,\n",
    "                direction=Direction.LongOnly,\n",
    "                fees=0.0005\n",
    "            )\n",
    "        elif price_now <= SL:\n",
    "            return nb.order_nb(\n",
    "                -size[c.col],\n",
    "                price=SL,\n",
    "                direction=Direction.LongOnly,\n",
    "                fees=0.0005\n",
    "            )\n",
    "\n",
    "    if c.position_now < 0:\n",
    "        SL = entry_price[c.col] * (1 + stop_loss[c.col])\n",
    "        TP = entry_price[c.col] * (1 - take_profit[c.col])\n",
    "        \n",
    "        if price_now >= SL:\n",
    "            return nb.order_nb(\n",
    "                -size[c.col],\n",
    "                price=SL,\n",
    "                direction=Direction.ShortOnly,\n",
    "                fees=0.0005\n",
    "            )\n",
    "        elif price_now <= TP:\n",
    "            return nb.order_nb(\n",
    "                -size[c.col],\n",
    "                price=TP,\n",
    "                direction=Direction.ShortOnly,\n",
    "                fees=0.0005\n",
    "            )\n",
    "\n",
    "    return NoOrder\n",
    "\n",
    "@njit\n",
    "def post_order_func_nb(c, entry_price):\n",
    "    if c.order_result.status == OrderStatus.Filled:\n",
    "        entry_price[c.col] = c.order_result.price\n",
    "\n",
    "class Strategie():\n",
    "\n",
    "    def __init__(self, data, tickers, frequence_exec, frequence, multitimeframe):\n",
    "        self.data = data\n",
    "        self.tickers = tickers\n",
    "        self.frequence_exec = frequence_exec\n",
    "        self.frequences = frequence\n",
    "        self.multitimeframe = multitimeframe  \n",
    "\n",
    "    def backtest(self, sscore):\n",
    "        entries_long_df = pd.DataFrame()\n",
    "        entries_short_df = pd.DataFrame()\n",
    "        exits_long_df = pd.DataFrame()\n",
    "        exits_short_df = pd.DataFrame()\n",
    "        close_df = pd.DataFrame()\n",
    "        datetime_df = pd.DataFrame()\n",
    "\n",
    "        for ticker in self.tickers:\n",
    "            data = self.data[ticker]\n",
    "            s_score = sscore[ticker]\n",
    "            close = data['close']\n",
    "            s_score_ajuster = s_score[\"adjusted_s_scores_vol\"]\n",
    "\n",
    "            data_reset = data.reset_index()\n",
    "            datetime = data_reset['Datetime']\n",
    "\n",
    "\n",
    "            brq_center,brq_upper,brq_lower,pente,inflexion = BRQ(data['close'],50)\n",
    "\n",
    "            brq_upper = pd.Series(brq_upper)\n",
    "            brq_lower = pd.Series(brq_lower)\n",
    "            pente = pd.Series(pente)\n",
    "            inflexion = pd.Series(inflexion)\n",
    "\n",
    "\n",
    "\n",
    "\n",
    "            long, short = entries_trades(close,brq_upper,brq_lower,s_score_ajuster,pente,inflexion,4)\n",
    "            long = pd.Series(long, index=data['close'].index)\n",
    "            short = pd.Series(short, index=data['close'].index)\n",
    "\n",
    "            # us.print_trades(0,long,short,None,None,data)\n",
    "\n",
    "            long = long.reset_index(drop=True)\n",
    "            short = short.reset_index(drop=True)\n",
    "            close = data['close'].reset_index(drop=True)\n",
    "            datetime = datetime.reset_index(drop=True)\n",
    "            entries_long_df[ticker] = long\n",
    "            entries_short_df[ticker] = short\n",
    "            close_df[ticker] = close\n",
    "            datetime_df[ticker] = datetime\n",
    "\n",
    "        close_df = close_df.replace(0, None).fillna(method='ffill')\n",
    "\n",
    "        capital = 100000  \n",
    "        risk_per_trade = 0.01  \n",
    "        position_value = capital * risk_per_trade  \n",
    "\n",
    "        size = np.array([position_value / close_df.iloc[-1, i] for i in range(len(self.tickers))])  \n",
    "\n",
    "        stop_loss = np.array([0.02] * len(self.tickers))  \n",
    "        take_profit = np.array([0.03] * len(self.tickers))  \n",
    "\n",
    "        portfolio = vbt.Portfolio.from_order_func(\n",
    "            close_df,  \n",
    "            order_func_nb,  \n",
    "            entries_long_df.values,  \n",
    "            entries_short_df.values,  \n",
    "            stop_loss,  \n",
    "            take_profit,  \n",
    "            size,  \n",
    "            freq=self.frequence_exec,  \n",
    "            init_cash=100000,  # Ajout du capital initial\n",
    "            pre_sim_func_nb=pre_sim_func_nb,  \n",
    "            post_order_func_nb=post_order_func_nb,  \n",
    "            broadcast_named_args=dict(  \n",
    "                long=entries_long_df.values,  \n",
    "                short=entries_short_df.values,  \n",
    "                stop_loss=stop_loss,  \n",
    "                take_profit=take_profit,  \n",
    "                size=size  \n",
    "            )\n",
    "        )\n",
    "\n",
    "\n",
    "        us.rapport_backtest(portfolio,close_df,datetime_df,self.tickers)\n",
    "\n",
    "        return portfolio\n"
   ]
  },
  {
   "cell_type": "code",
   "execution_count": 57,
   "metadata": {},
   "outputs": [
    {
     "name": "stderr",
     "output_type": "stream",
     "text": [
      "Estimation des paramètres OU:   0%|          | 0/51925 [00:00<?, ?it/s]"
     ]
    },
    {
     "data": {
      "application/vnd.jupyter.widget-view+json": {
       "model_id": "773694782bba4c68a3b0d7fa004ff966",
       "version_major": 2,
       "version_minor": 0
      },
      "text/plain": [
       "  0%|          | 0/51925 [00:00<?, ?it/s]"
      ]
     },
     "metadata": {},
     "output_type": "display_data"
    },
    {
     "name": "stderr",
     "output_type": "stream",
     "text": [
      "Estimation des paramètres OU:   0%|          | 0/51925 [00:18<?, ?it/s]\n",
      "H:\\Desktop\\Environement_Trading_Developement\\Indicateur\\s_score.py:31: RuntimeWarning:\n",
      "\n",
      "invalid value encountered in sqrt\n",
      "\n",
      "Calcul de la volatilité conditionnelle:   0%|          | 0/52010 [00:00<?, ?it/s]c:\\Users\\CYTech Student\\AppData\\Local\\Programs\\Python\\Python311\\Lib\\site-packages\\arch\\univariate\\base.py:768: ConvergenceWarning:\n",
      "\n",
      "The optimizer returned code 4. The message is:\n",
      "Inequality constraints incompatible\n",
      "See scipy.optimize.fmin_slsqp for code meaning.\n",
      "\n",
      "\n",
      "Calcul de la volatilité conditionnelle: 100%|██████████| 52010/52010 [00:00<00:00, 313177.17it/s]\n"
     ]
    },
    {
     "name": "stdout",
     "output_type": "stream",
     "text": [
      "52009\n"
     ]
    },
    {
     "name": "stderr",
     "output_type": "stream",
     "text": [
      "Estimation des paramètres OU:   0%|          | 0/51945 [00:00<?, ?it/s]"
     ]
    },
    {
     "data": {
      "application/vnd.jupyter.widget-view+json": {
       "model_id": "787d65e4695a4f4d9adf4b8a5a23c1df",
       "version_major": 2,
       "version_minor": 0
      },
      "text/plain": [
       "  0%|          | 0/51945 [00:00<?, ?it/s]"
      ]
     },
     "metadata": {},
     "output_type": "display_data"
    },
    {
     "name": "stderr",
     "output_type": "stream",
     "text": [
      "H:\\Desktop\\Environement_Trading_Developement\\Indicateur\\s_score.py:31: RuntimeWarning:\n",
      "\n",
      "invalid value encountered in sqrt\n",
      "\n",
      "c:\\Users\\CYTech Student\\AppData\\Local\\Programs\\Python\\Python311\\Lib\\site-packages\\arch\\univariate\\base.py:768: ConvergenceWarning:\n",
      "\n",
      "The optimizer returned code 4. The message is:\n",
      "Inequality constraints incompatible\n",
      "See scipy.optimize.fmin_slsqp for code meaning.\n",
      "\n",
      "\n",
      "Calcul de la volatilité conditionnelle: 100%|██████████| 52030/52030 [00:00<00:00, 395611.59it/s]\n"
     ]
    },
    {
     "name": "stdout",
     "output_type": "stream",
     "text": [
      "52029\n"
     ]
    },
    {
     "name": "stderr",
     "output_type": "stream",
     "text": [
      "C:\\Users\\CYTech Student\\AppData\\Local\\Temp\\ipykernel_8432\\4100286429.py:18: FutureWarning:\n",
      "\n",
      "The behavior of DataFrame concatenation with empty or all-NA entries is deprecated. In a future version, this will no longer exclude empty or all-NA columns when determining the result dtypes. To retain the old behavior, exclude the relevant entries before the concat operation.\n",
      "\n"
     ]
    },
    {
     "data": {
      "application/vnd.jupyter.widget-view+json": {
       "model_id": "96514cff98c746dd831680b5387496e1",
       "version_major": 2,
       "version_minor": 0
      },
      "text/plain": [
       "  0%|          | 0/51931 [00:00<?, ?it/s]"
      ]
     },
     "metadata": {},
     "output_type": "display_data"
    },
    {
     "name": "stderr",
     "output_type": "stream",
     "text": [
      "Estimation des paramètres OU:   0%|          | 0/51945 [00:09<?, ?it/s]\n",
      "H:\\Desktop\\Environement_Trading_Developement\\Indicateur\\s_score.py:31: RuntimeWarning:\n",
      "\n",
      "invalid value encountered in sqrt\n",
      "\n",
      "Calcul de la volatilité conditionnelle:   0%|          | 0/52016 [00:00<?, ?it/s]c:\\Users\\CYTech Student\\AppData\\Local\\Programs\\Python\\Python311\\Lib\\site-packages\\arch\\univariate\\base.py:768: ConvergenceWarning:\n",
      "\n",
      "The optimizer returned code 4. The message is:\n",
      "Inequality constraints incompatible\n",
      "See scipy.optimize.fmin_slsqp for code meaning.\n",
      "\n",
      "\n",
      "Calcul de la volatilité conditionnelle: 100%|██████████| 52016/52016 [00:00<00:00, 379820.71it/s]\n"
     ]
    },
    {
     "name": "stdout",
     "output_type": "stream",
     "text": [
      "52015\n"
     ]
    }
   ],
   "source": [
    "tickers = [\"USDJPY\",\"GPDUSD\",\"EURUSD\"]\n",
    "DATA = us.get_data_forex(tickers,'H1',\"2000-01-01\",\"2011-01-01\")\n",
    "s_score_value = {}\n",
    "for ticker in tickers:\n",
    "    data_traitement = DATA[ticker]\n",
    "    nb_nan = data_traitement['close'].isna().sum()\n",
    "    close = data_traitement['close'].dropna()\n",
    "    close_without_index = close.reset_index()\n",
    "    result = score.mean_reversion(close, close_without_index['Datetime'], 85, \"VOL\", 0.5, \"EGARCH\")\n",
    "    result_df = pd.DataFrame({\n",
    "        's_score_value': result[0],\n",
    "        'adjusted_s_scores_vol': result[1],\n",
    "        'theta_vals': result[2],\n",
    "        'mu_vals': result[3],\n",
    "        'sigma_vals': result[4]\n",
    "    })\n",
    "    nan_rows = pd.DataFrame([[float('nan')] * result_df.shape[1]] * nb_nan, columns=result_df.columns)\n",
    "    result_df = pd.concat([result_df, nan_rows], ignore_index=True)\n",
    "\n",
    "    s_score_value[ticker] = result_df\n",
    "\n",
    "\n"
   ]
  },
  {
   "cell_type": "code",
   "execution_count": null,
   "metadata": {},
   "outputs": [
    {
     "name": "stderr",
     "output_type": "stream",
     "text": [
      "C:\\Users\\CYTech Student\\AppData\\Local\\Temp\\ipykernel_8432\\3575516001.py:143: FutureWarning:\n",
      "\n",
      "DataFrame.fillna with 'method' is deprecated and will raise in a future version. Use obj.ffill() or obj.bfill() instead.\n",
      "\n"
     ]
    }
   ],
   "source": [
    "strat = Strategie(DATA,tickers,\"60m\",\"60m\",0)\n",
    "port = strat.backtest(s_score_value)"
   ]
  },
  {
   "cell_type": "code",
   "execution_count": null,
   "metadata": {},
   "outputs": [],
   "source": []
  }
 ],
 "metadata": {
  "kernelspec": {
   "display_name": "Python 3",
   "language": "python",
   "name": "python3"
  },
  "language_info": {
   "codemirror_mode": {
    "name": "ipython",
    "version": 3
   },
   "file_extension": ".py",
   "mimetype": "text/x-python",
   "name": "python",
   "nbconvert_exporter": "python",
   "pygments_lexer": "ipython3",
   "version": "3.11.3"
  }
 },
 "nbformat": 4,
 "nbformat_minor": 2
}
