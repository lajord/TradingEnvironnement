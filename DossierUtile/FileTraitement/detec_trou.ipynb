{
 "cells": [
  {
   "cell_type": "code",
   "execution_count": 3,
   "metadata": {},
   "outputs": [
    {
     "name": "stdout",
     "output_type": "stream",
     "text": [
      "                   Datetime              diff\n",
      "899251  2023-04-03 00:00:00 130 days 00:01:38\n",
      "1105243 2023-09-19 13:56:39   4 days 00:26:48\n",
      "1184144 2023-12-01 00:00:34  16 days 10:30:33\n",
      "1200799 2024-01-01 23:00:00  17 days 08:30:39\n",
      "1312451 2024-04-01 00:00:34  16 days 10:31:12\n",
      "1450303 2024-07-01 00:00:43   9 days 10:31:06\n",
      "1524335 2024-09-19 00:00:01  44 days 00:00:06\n"
     ]
    }
   ],
   "source": [
    "import pandas as pd\n",
    "\n",
    "def detecter_trous(df, colonne_datetime, seuil_jours=4):\n",
    "    \"\"\"\n",
    "    Détecte les périodes de 'trous' dans les données.\n",
    "\n",
    "    :param df: DataFrame contenant les données.\n",
    "    :param colonne_datetime: Nom de la colonne contenant les datetime.\n",
    "    :param seuil_jours: Seuil en jours pour détecter un 'trou'.\n",
    "    :return: DataFrame avec les périodes de 'trous'.\n",
    "    \"\"\"\n",
    "    # Convertir la colonne de datetime en type datetime si ce n'est pas déjà fait\n",
    "    df[colonne_datetime] = pd.to_datetime(df[colonne_datetime])\n",
    "\n",
    "    # Trier le DataFrame par datetime\n",
    "    df = df.sort_values(by=colonne_datetime)\n",
    "\n",
    "    # Calculer les différences entre les datetime consécutives\n",
    "    df['diff'] = df[colonne_datetime].diff()\n",
    "\n",
    "    # Identifier les périodes où l'écart dépasse le seuil\n",
    "    trous = df[df['diff'] > pd.Timedelta(days=seuil_jours)]\n",
    "\n",
    "    return trous[[colonne_datetime, 'diff']]\n",
    "\n",
    "# Exemple d'utilisation\n",
    "data = pd.read_csv(r'H:\\Desktop\\Data\\ES_100T.csv')\n",
    "df = pd.DataFrame(data)\n",
    "\n",
    "trous = detecter_trous(df, 'Datetime', seuil_jours=4)\n",
    "print(trous)\n"
   ]
  },
  {
   "cell_type": "code",
   "execution_count": null,
   "metadata": {},
   "outputs": [],
   "source": []
  }
 ],
 "metadata": {
  "kernelspec": {
   "display_name": "Python 3",
   "language": "python",
   "name": "python3"
  },
  "language_info": {
   "codemirror_mode": {
    "name": "ipython",
    "version": 3
   },
   "file_extension": ".py",
   "mimetype": "text/x-python",
   "name": "python",
   "nbconvert_exporter": "python",
   "pygments_lexer": "ipython3",
   "version": "3.11.3"
  }
 },
 "nbformat": 4,
 "nbformat_minor": 2
}
