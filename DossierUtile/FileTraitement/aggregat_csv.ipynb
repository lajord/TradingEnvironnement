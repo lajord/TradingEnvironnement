{
 "cells": [
  {
   "cell_type": "code",
   "execution_count": 8,
   "metadata": {},
   "outputs": [
    {
     "name": "stdout",
     "output_type": "stream",
     "text": [
      "Les fichiers ont été combinés et enregistrés avec succès.\n"
     ]
    }
   ],
   "source": [
    "import pandas as pd\n",
    "\n",
    "# Lire les trois fichiers CSV\n",
    "fichier1 = pd.read_csv(r'C:\\Users\\Jordi\\Desktop\\Trading_Dev_Stratégie_Environement\\Data\\es-1h_bk\\SP1H_2014.csv')\n",
    "fichier2 = pd.read_csv(r'C:\\Users\\Jordi\\Desktop\\Trading_Dev_Stratégie_Environement\\Data\\es-1h_bk\\SP1H_2015.csv')\n",
    "fichier3 = pd.read_csv(r'C:\\Users\\Jordi\\Desktop\\Trading_Dev_Stratégie_Environement\\Data\\es-1h_bk\\SP1H_2016.csv')\n",
    "fichier4 = pd.read_csv(r'C:\\Users\\Jordi\\Desktop\\Trading_Dev_Stratégie_Environement\\Data\\es-1h_bk\\SP1H_2017.csv')\n",
    "fichier5 = pd.read_csv(r'C:\\Users\\Jordi\\Desktop\\Trading_Dev_Stratégie_Environement\\Data\\es-1h_bk\\SP1H_2018.csv')\n",
    "fichier6 = pd.read_csv(r'C:\\Users\\Jordi\\Desktop\\Trading_Dev_Stratégie_Environement\\Data\\es-1h_bk\\SP1H_2019.csv')\n",
    "fichier7 = pd.read_csv(r'C:\\Users\\Jordi\\Desktop\\Trading_Dev_Stratégie_Environement\\Data\\es-1h_bk\\SP1H_2020.csv')\n",
    "fichier8 = pd.read_csv(r'C:\\Users\\Jordi\\Desktop\\Trading_Dev_Stratégie_Environement\\Data\\es-1h_bk\\SP1H_2021.csv')\n",
    "fichier9 = pd.read_csv(r'C:\\Users\\Jordi\\Desktop\\Trading_Dev_Stratégie_Environement\\Data\\es-1h_bk\\SP1H_2022.csv')\n",
    "fichier10 = pd.read_csv(r'C:\\Users\\Jordi\\Desktop\\Trading_Dev_Stratégie_Environement\\Data\\es-1h_bk\\SP1H_2023.csv')\n",
    "fichier11 = pd.read_csv(r'C:\\Users\\Jordi\\Desktop\\Trading_Dev_Stratégie_Environement\\Data\\es-1h_bk\\SP1H_2024.csv')\n",
    "fichier12 = pd.read_csv(r'C:\\Users\\Jordi\\Desktop\\ALGO\\algo\\DATA\\es-4h_bk\\SP4H_2020.csv')\n",
    "fichier13 = pd.read_csv(r'C:\\Users\\Jordi\\Desktop\\ALGO\\algo\\DATA\\es-4h_bk\\SP4H_2021.csv')\n",
    "fichier14 = pd.read_csv(r'C:\\Users\\Jordi\\Desktop\\ALGO\\algo\\DATA\\es-4h_bk\\SP4H_2022.csv')\n",
    "fichier15 = pd.read_csv(r'C:\\Users\\Jordi\\Desktop\\ALGO\\algo\\DATA\\es-4h_bk\\SP4H_2023.csv')\n",
    "fichier16 = pd.read_csv(r'C:\\Users\\Jordi\\Desktop\\ALGO\\algo\\DATA\\es-4h_bk\\SP4H_2024.csv')\n",
    "\n",
    "# Combiner les fichiers - concaténation\n",
    "resultat = pd.concat([fichier5,fichier6,fichier7,fichier8,fichier9], ignore_index=True)\n",
    "\n",
    "# Enregistrer dans un nouveau fichier CSV\n",
    "resultat.to_csv('SP1H_2018_2022_combine.csv', index=False)\n",
    "\n",
    "print(\"Les fichiers ont été combinés et enregistrés avec succès.\")"
   ]
  },
  {
   "cell_type": "code",
   "execution_count": null,
   "metadata": {},
   "outputs": [],
   "source": []
  }
 ],
 "metadata": {
  "kernelspec": {
   "display_name": "Python 3",
   "language": "python",
   "name": "python3"
  },
  "language_info": {
   "codemirror_mode": {
    "name": "ipython",
    "version": 3
   },
   "file_extension": ".py",
   "mimetype": "text/x-python",
   "name": "python",
   "nbconvert_exporter": "python",
   "pygments_lexer": "ipython3",
   "version": "3.12.4"
  }
 },
 "nbformat": 4,
 "nbformat_minor": 2
}
