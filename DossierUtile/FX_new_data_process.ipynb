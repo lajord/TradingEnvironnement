{
 "cells": [
  {
   "cell_type": "markdown",
   "metadata": {},
   "source": [
    "#### Avant tout oublie pas de rajouter les noms des colonnes au dessus\n",
    "#### C'est du Date;time;open;high;low;close;volume"
   ]
  },
  {
   "cell_type": "markdown",
   "metadata": {},
   "source": []
  },
  {
   "cell_type": "code",
   "execution_count": 3,
   "metadata": {},
   "outputs": [],
   "source": [
    "import pandas as pd"
   ]
  },
  {
   "cell_type": "code",
   "execution_count": 12,
   "metadata": {},
   "outputs": [],
   "source": [
    "def convertir_separateur(fichier_entree, fichier_sortie, ancien_sep=';', nouveau_sep=','):\n",
    "    df = pd.read_csv(fichier_entree, sep=ancien_sep)\n",
    "    df['time'] = df['time'].astype(str).apply(lambda x: x if len(x) == 8 else x + ':00')\n",
    "    df['Datetime'] = pd.to_datetime(df['Date'] + ' ' + df['time'], format='%d/%m/%Y %H:%M:%S', errors='coerce')\n",
    "    df = df.drop(columns=['Date', 'time'], errors='ignore')\n",
    "    df.to_csv(fichier_sortie, sep=nouveau_sep, index=False)"
   ]
  },
  {
   "cell_type": "code",
   "execution_count": 14,
   "metadata": {},
   "outputs": [],
   "source": [
    "convertir_separateur(r'C:\\Users\\Jordi\\Desktop\\Environement de developement\\Data\\ForexHub\\GPDUSD.csv', r'C:\\Users\\Jordi\\Desktop\\Environement de developement\\Data\\ForexHub\\GPDUSD.csv')"
   ]
  },
  {
   "cell_type": "code",
   "execution_count": null,
   "metadata": {},
   "outputs": [],
   "source": []
  }
 ],
 "metadata": {
  "kernelspec": {
   "display_name": "Python 3",
   "language": "python",
   "name": "python3"
  },
  "language_info": {
   "codemirror_mode": {
    "name": "ipython",
    "version": 3
   },
   "file_extension": ".py",
   "mimetype": "text/x-python",
   "name": "python",
   "nbconvert_exporter": "python",
   "pygments_lexer": "ipython3",
   "version": "3.12.4"
  }
 },
 "nbformat": 4,
 "nbformat_minor": 2
}
