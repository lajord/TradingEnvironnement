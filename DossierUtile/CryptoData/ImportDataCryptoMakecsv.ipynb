{
 "cells": [
  {
   "cell_type": "code",
   "execution_count": 1,
   "metadata": {},
   "outputs": [],
   "source": [
    "from binance import Client, ThreadedWebsocketManager, ThreadedDepthCacheManager\n",
    "import pandas as pd\n",
    "import matplotlib.pyplot as plt"
   ]
  },
  {
   "cell_type": "code",
   "execution_count": 2,
   "metadata": {},
   "outputs": [],
   "source": [
    "apikey = 'qhlsyTscFtclLd2FC9fWqKJh2yCYm9Vd1C8sowvzK8I4SpIlzm9n8DtXLWpVOWyI'\n",
    "secret = 'KF5OLsWZUUWk2tZ5AwICQFAkUZYM1gcIqd9ceT6gyptUAP7mj6H2rzCX3W9UQ5ni'"
   ]
  },
  {
   "cell_type": "code",
   "execution_count": 3,
   "metadata": {},
   "outputs": [],
   "source": [
    "client = Client(apikey, secret)"
   ]
  },
  {
   "cell_type": "code",
   "execution_count": 16,
   "metadata": {},
   "outputs": [
    {
     "name": "stderr",
     "output_type": "stream",
     "text": [
      "C:\\Users\\Jordi\\AppData\\Local\\Temp\\ipykernel_5052\\2294036998.py:31: FutureWarning: 'T' is deprecated and will be removed in a future version, please use 'min' instead.\n",
      "  full_index = pd.date_range(start=df.index.min(), end=df.index.max(), freq=\"15T\")  # '5T' = 5 minutes\n",
      "C:\\Users\\Jordi\\AppData\\Local\\Temp\\ipykernel_5052\\2294036998.py:31: FutureWarning: 'T' is deprecated and will be removed in a future version, please use 'min' instead.\n",
      "  full_index = pd.date_range(start=df.index.min(), end=df.index.max(), freq=\"15T\")  # '5T' = 5 minutes\n",
      "C:\\Users\\Jordi\\AppData\\Local\\Temp\\ipykernel_5052\\2294036998.py:31: FutureWarning: 'T' is deprecated and will be removed in a future version, please use 'min' instead.\n",
      "  full_index = pd.date_range(start=df.index.min(), end=df.index.max(), freq=\"15T\")  # '5T' = 5 minutes\n",
      "C:\\Users\\Jordi\\AppData\\Local\\Temp\\ipykernel_5052\\2294036998.py:31: FutureWarning: 'T' is deprecated and will be removed in a future version, please use 'min' instead.\n",
      "  full_index = pd.date_range(start=df.index.min(), end=df.index.max(), freq=\"15T\")  # '5T' = 5 minutes\n",
      "C:\\Users\\Jordi\\AppData\\Local\\Temp\\ipykernel_5052\\2294036998.py:31: FutureWarning: 'T' is deprecated and will be removed in a future version, please use 'min' instead.\n",
      "  full_index = pd.date_range(start=df.index.min(), end=df.index.max(), freq=\"15T\")  # '5T' = 5 minutes\n",
      "C:\\Users\\Jordi\\AppData\\Local\\Temp\\ipykernel_5052\\2294036998.py:31: FutureWarning: 'T' is deprecated and will be removed in a future version, please use 'min' instead.\n",
      "  full_index = pd.date_range(start=df.index.min(), end=df.index.max(), freq=\"15T\")  # '5T' = 5 minutes\n",
      "C:\\Users\\Jordi\\AppData\\Local\\Temp\\ipykernel_5052\\2294036998.py:31: FutureWarning: 'T' is deprecated and will be removed in a future version, please use 'min' instead.\n",
      "  full_index = pd.date_range(start=df.index.min(), end=df.index.max(), freq=\"15T\")  # '5T' = 5 minutes\n",
      "C:\\Users\\Jordi\\AppData\\Local\\Temp\\ipykernel_5052\\2294036998.py:31: FutureWarning: 'T' is deprecated and will be removed in a future version, please use 'min' instead.\n",
      "  full_index = pd.date_range(start=df.index.min(), end=df.index.max(), freq=\"15T\")  # '5T' = 5 minutes\n",
      "C:\\Users\\Jordi\\AppData\\Local\\Temp\\ipykernel_5052\\2294036998.py:31: FutureWarning: 'T' is deprecated and will be removed in a future version, please use 'min' instead.\n",
      "  full_index = pd.date_range(start=df.index.min(), end=df.index.max(), freq=\"15T\")  # '5T' = 5 minutes\n",
      "C:\\Users\\Jordi\\AppData\\Local\\Temp\\ipykernel_5052\\2294036998.py:31: FutureWarning: 'T' is deprecated and will be removed in a future version, please use 'min' instead.\n",
      "  full_index = pd.date_range(start=df.index.min(), end=df.index.max(), freq=\"15T\")  # '5T' = 5 minutes\n",
      "C:\\Users\\Jordi\\AppData\\Local\\Temp\\ipykernel_5052\\2294036998.py:31: FutureWarning: 'T' is deprecated and will be removed in a future version, please use 'min' instead.\n",
      "  full_index = pd.date_range(start=df.index.min(), end=df.index.max(), freq=\"15T\")  # '5T' = 5 minutes\n",
      "C:\\Users\\Jordi\\AppData\\Local\\Temp\\ipykernel_5052\\2294036998.py:31: FutureWarning: 'T' is deprecated and will be removed in a future version, please use 'min' instead.\n",
      "  full_index = pd.date_range(start=df.index.min(), end=df.index.max(), freq=\"15T\")  # '5T' = 5 minutes\n",
      "C:\\Users\\Jordi\\AppData\\Local\\Temp\\ipykernel_5052\\2294036998.py:31: FutureWarning: 'T' is deprecated and will be removed in a future version, please use 'min' instead.\n",
      "  full_index = pd.date_range(start=df.index.min(), end=df.index.max(), freq=\"15T\")  # '5T' = 5 minutes\n"
     ]
    },
    {
     "data": {
      "text/html": [
       "<div>\n",
       "<style scoped>\n",
       "    .dataframe tbody tr th:only-of-type {\n",
       "        vertical-align: middle;\n",
       "    }\n",
       "\n",
       "    .dataframe tbody tr th {\n",
       "        vertical-align: top;\n",
       "    }\n",
       "\n",
       "    .dataframe thead th {\n",
       "        text-align: right;\n",
       "    }\n",
       "</style>\n",
       "<table border=\"1\" class=\"dataframe\">\n",
       "  <thead>\n",
       "    <tr style=\"text-align: right;\">\n",
       "      <th></th>\n",
       "      <th>open</th>\n",
       "      <th>high</th>\n",
       "      <th>low</th>\n",
       "      <th>close</th>\n",
       "      <th>volume</th>\n",
       "    </tr>\n",
       "  </thead>\n",
       "  <tbody>\n",
       "    <tr>\n",
       "      <th>2019-03-21 04:00:00</th>\n",
       "      <td>58.50</td>\n",
       "      <td>58.50</td>\n",
       "      <td>57.08</td>\n",
       "      <td>57.36</td>\n",
       "      <td>298.90386</td>\n",
       "    </tr>\n",
       "    <tr>\n",
       "      <th>2019-03-21 04:15:00</th>\n",
       "      <td>57.28</td>\n",
       "      <td>57.99</td>\n",
       "      <td>57.20</td>\n",
       "      <td>57.42</td>\n",
       "      <td>97.46465</td>\n",
       "    </tr>\n",
       "    <tr>\n",
       "      <th>2019-03-21 04:30:00</th>\n",
       "      <td>57.20</td>\n",
       "      <td>57.20</td>\n",
       "      <td>57.20</td>\n",
       "      <td>57.20</td>\n",
       "      <td>5.99200</td>\n",
       "    </tr>\n",
       "    <tr>\n",
       "      <th>2019-03-21 04:45:00</th>\n",
       "      <td>57.56</td>\n",
       "      <td>57.56</td>\n",
       "      <td>57.20</td>\n",
       "      <td>57.20</td>\n",
       "      <td>43.12151</td>\n",
       "    </tr>\n",
       "    <tr>\n",
       "      <th>2019-03-21 05:00:00</th>\n",
       "      <td>57.20</td>\n",
       "      <td>57.20</td>\n",
       "      <td>56.80</td>\n",
       "      <td>56.80</td>\n",
       "      <td>212.46891</td>\n",
       "    </tr>\n",
       "  </tbody>\n",
       "</table>\n",
       "</div>"
      ],
      "text/plain": [
       "                      open   high    low  close     volume\n",
       "2019-03-21 04:00:00  58.50  58.50  57.08  57.36  298.90386\n",
       "2019-03-21 04:15:00  57.28  57.99  57.20  57.42   97.46465\n",
       "2019-03-21 04:30:00  57.20  57.20  57.20  57.20    5.99200\n",
       "2019-03-21 04:45:00  57.56  57.56  57.20  57.20   43.12151\n",
       "2019-03-21 05:00:00  57.20  57.20  56.80  56.80  212.46891"
      ]
     },
     "execution_count": 16,
     "metadata": {},
     "output_type": "execute_result"
    }
   ],
   "source": [
    "crypto_save = {}\n",
    "\n",
    "tickers=['BTCUSDT','LTCUSDT','XRPUSDT','BCHUSDT','XMRUSDT','BCHUSDT','XRPUSDT','DASHUSDT','XLMUSDT','NEOUSDT','ETCUSDT',\"DOGEUSDT\",'ZECUSDT']\n",
    "\n",
    "\n",
    "\n",
    "start_date = '2010-01-1'\n",
    "end_date = '2026-01-5'\n",
    "interval = '15m'\n",
    "\n",
    "for ticker in tickers:\n",
    "    klines = client.get_historical_klines(ticker, interval, start_date, end_date)\n",
    "    df = pd.DataFrame(klines, columns=[\n",
    "                                        'open_time','open', 'high', 'low', 'close',\n",
    "                                            'volume','close_time', 'dv','num_trades',\n",
    "                                            'taker_buy_vol','taker_buy_base_vol', 'ignore'\n",
    "                                    ])\n",
    "\n",
    "\n",
    "    df['open_time'] = pd.to_datetime(df['open_time'], unit='ms')\n",
    "    df.set_index('open_time', inplace=True)\n",
    "    df.drop(columns=['close_time','ignore'], inplace=True)\n",
    "\n",
    "    df.index = df.index.round('min')\n",
    "    df = df.astype(float)\n",
    "\n",
    "\n",
    "    df = df.drop(columns=['dv','num_trades','taker_buy_vol','taker_buy_base_vol'])\n",
    "    df.index = pd.to_datetime(df.index)\n",
    "    df.index.names = ['Datetime']\n",
    "    full_index = pd.date_range(start=df.index.min(), end=df.index.max(), freq=\"15T\")  # '5T' = 5 minutes\n",
    "    df = df.reindex(full_index).ffill()\n",
    "    df.to_csv(f'{ticker}.csv')\n",
    "\n",
    "\n",
    "df.head()"
   ]
  },
  {
   "cell_type": "code",
   "execution_count": 5,
   "metadata": {},
   "outputs": [
    {
     "name": "stdout",
     "output_type": "stream",
     "text": [
      "(264260, 9)\n"
     ]
    }
   ],
   "source": [
    "print(df.shape)\n",
    "df_save = df.copy()"
   ]
  },
  {
   "cell_type": "code",
   "execution_count": 6,
   "metadata": {},
   "outputs": [
    {
     "name": "stdout",
     "output_type": "stream",
     "text": [
      "                        open     high      low    close     volume\n",
      "Datetime                                                          \n",
      "2017-08-17 04:00:00  4261.48  4280.56  4261.48  4261.48   2.189061\n",
      "2017-08-17 04:15:00  4261.48  4270.41  4261.32  4261.45   9.119865\n",
      "2017-08-17 04:30:00  4280.00  4310.07  4267.99  4310.07  21.923552\n",
      "2017-08-17 04:45:00  4310.07  4313.62  4291.37  4308.83  13.948531\n",
      "2017-08-17 05:00:00  4308.83  4328.69  4304.31  4304.31   5.101153\n"
     ]
    }
   ],
   "source": [
    "# Venir bien structurer mon csv -> ohlcv\n",
    "# Avec un Datetime en index \n",
    "\n",
    "df = df.drop(columns=['dv','num_trades','taker_buy_vol','taker_buy_base_vol'])\n",
    "df.index = pd.to_datetime(df.index)\n",
    "df.index.names = ['Datetime']\n",
    "print(df.head())"
   ]
  },
  {
   "cell_type": "code",
   "execution_count": 7,
   "metadata": {},
   "outputs": [
    {
     "name": "stdout",
     "output_type": "stream",
     "text": [
      "0\n",
      "DatetimeIndex([], dtype='datetime64[ns]', name='Datetime', freq=None)\n",
      "Nombre de formats uniques : 264260\n"
     ]
    }
   ],
   "source": [
    "#Verification que y'est aucun index de dupliquer et que le format Datetime et le meme pour chaque ligne\n",
    "\n",
    "print(df.index.duplicated().sum())\n",
    "index_duplicate = df.index[df.index.duplicated(keep=False)]\n",
    "print(index_duplicate)\n",
    "formats_uniques = df.index.strftime('%Y-%m-%d %H:%M:%S').nunique()\n",
    "print(\"Nombre de formats uniques :\", formats_uniques)\n"
   ]
  },
  {
   "cell_type": "code",
   "execution_count": 8,
   "metadata": {},
   "outputs": [
    {
     "name": "stdout",
     "output_type": "stream",
     "text": [
      "open      0\n",
      "high      0\n",
      "low       0\n",
      "close     0\n",
      "volume    0\n",
      "dtype: int64\n",
      "Valeurs Zéro:\n",
      " open       0\n",
      "high       0\n",
      "low        0\n",
      "close      0\n",
      "volume    56\n",
      "dtype: int64\n",
      "Valeurs Négatives:\n",
      " open      0\n",
      "high      0\n",
      "low       0\n",
      "close     0\n",
      "volume    0\n",
      "dtype: int64\n"
     ]
    }
   ],
   "source": [
    "print(df.isna().sum())\n",
    "print(\"Valeurs Zéro:\\n\", (df == 0).sum())\n",
    "print(\"Valeurs Négatives:\\n\", (df < 0).sum())"
   ]
  },
  {
   "cell_type": "code",
   "execution_count": 9,
   "metadata": {},
   "outputs": [
    {
     "name": "stderr",
     "output_type": "stream",
     "text": [
      "C:\\Users\\Jordi\\AppData\\Local\\Temp\\ipykernel_5052\\2956369126.py:1: FutureWarning: 'T' is deprecated and will be removed in a future version, please use 'min' instead.\n",
      "  expected_index = pd.date_range(start=df.index.min(), end=df.index.max(), freq='1T')\n"
     ]
    },
    {
     "name": "stdout",
     "output_type": "stream",
     "text": [
      "DatetimeIndex(['2017-08-17 04:00:00', '2017-08-17 04:01:00',\n",
      "               '2017-08-17 04:02:00', '2017-08-17 04:03:00',\n",
      "               '2017-08-17 04:04:00', '2017-08-17 04:05:00',\n",
      "               '2017-08-17 04:06:00', '2017-08-17 04:07:00',\n",
      "               '2017-08-17 04:08:00', '2017-08-17 04:09:00',\n",
      "               ...\n",
      "               '2025-03-06 17:51:00', '2025-03-06 17:52:00',\n",
      "               '2025-03-06 17:53:00', '2025-03-06 17:54:00',\n",
      "               '2025-03-06 17:55:00', '2025-03-06 17:56:00',\n",
      "               '2025-03-06 17:57:00', '2025-03-06 17:58:00',\n",
      "               '2025-03-06 17:59:00', '2025-03-06 18:00:00'],\n",
      "              dtype='datetime64[ns]', length=3972361, freq='min')\n"
     ]
    }
   ],
   "source": [
    "expected_index = pd.date_range(start=df.index.min(), end=df.index.max(), freq='1T')\n",
    "print(expected_index)\n",
    "missing_times = expected_index.difference(df.index)\n"
   ]
  },
  {
   "cell_type": "code",
   "execution_count": 13,
   "metadata": {},
   "outputs": [],
   "source": [
    "delta = df.index.to_series().diff().dropna().unique()"
   ]
  },
  {
   "cell_type": "code",
   "execution_count": 14,
   "metadata": {},
   "outputs": [
    {
     "name": "stdout",
     "output_type": "stream",
     "text": [
      "<TimedeltaArray>\n",
      "['0 days 00:01:00']\n",
      "Length: 1, dtype: timedelta64[ns]\n"
     ]
    }
   ],
   "source": [
    "print(delta)"
   ]
  },
  {
   "cell_type": "code",
   "execution_count": 12,
   "metadata": {},
   "outputs": [
    {
     "name": "stderr",
     "output_type": "stream",
     "text": [
      "C:\\Users\\Jordi\\AppData\\Local\\Temp\\ipykernel_5052\\4163235366.py:1: FutureWarning: 'T' is deprecated and will be removed in a future version, please use 'min' instead.\n",
      "  full_index = pd.date_range(start=df.index.min(), end=df.index.max(), freq=\"1T\")  # '5T' = 5 minutes\n"
     ]
    }
   ],
   "source": [
    "full_index = pd.date_range(start=df.index.min(), end=df.index.max(), freq=\"1T\")  # '5T' = 5 minutes\n",
    "df = df.reindex(full_index).ffill()"
   ]
  },
  {
   "cell_type": "code",
   "execution_count": 15,
   "metadata": {},
   "outputs": [],
   "source": [
    "df.to_csv('BTCUSDT.csv')"
   ]
  },
  {
   "cell_type": "code",
   "execution_count": null,
   "metadata": {},
   "outputs": [],
   "source": []
  }
 ],
 "metadata": {
  "kernelspec": {
   "display_name": "Python 3",
   "language": "python",
   "name": "python3"
  },
  "language_info": {
   "codemirror_mode": {
    "name": "ipython",
    "version": 3
   },
   "file_extension": ".py",
   "mimetype": "text/x-python",
   "name": "python",
   "nbconvert_exporter": "python",
   "pygments_lexer": "ipython3",
   "version": "3.12.4"
  }
 },
 "nbformat": 4,
 "nbformat_minor": 2
}
