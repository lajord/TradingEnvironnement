{
 "cells": [
  {
   "cell_type": "code",
   "execution_count": 1,
   "metadata": {},
   "outputs": [
    {
     "ename": "ModuleNotFoundError",
     "evalue": "No module named 'utils'",
     "output_type": "error",
     "traceback": [
      "\u001b[1;31m---------------------------------------------------------------------------\u001b[0m",
      "\u001b[1;31mModuleNotFoundError\u001b[0m                       Traceback (most recent call last)",
      "Cell \u001b[1;32mIn[1], line 11\u001b[0m\n\u001b[0;32m      9\u001b[0m function_essential_path \u001b[38;5;241m=\u001b[39m \u001b[38;5;124mr\u001b[39m\u001b[38;5;124m\"\u001b[39m\u001b[38;5;124mH:\u001b[39m\u001b[38;5;124m\\\u001b[39m\u001b[38;5;124mDesktop\u001b[39m\u001b[38;5;124m\\\u001b[39m\u001b[38;5;124mEnvironement_Trading_Developement\u001b[39m\u001b[38;5;124m\\\u001b[39m\u001b[38;5;124mFunctionEssential\u001b[39m\u001b[38;5;124m\"\u001b[39m\n\u001b[0;32m     10\u001b[0m sys\u001b[38;5;241m.\u001b[39mpath\u001b[38;5;241m.\u001b[39mappend(function_essential_path)\n\u001b[1;32m---> 11\u001b[0m \u001b[38;5;28;01mimport\u001b[39;00m \u001b[38;5;21;01mutils\u001b[39;00m \u001b[38;5;28;01mas\u001b[39;00m \u001b[38;5;21;01mus\u001b[39;00m\n",
      "\u001b[1;31mModuleNotFoundError\u001b[0m: No module named 'utils'"
     ]
    }
   ],
   "source": [
    "import numpy as np\n",
    "import pandas as pd\n",
    "import vectorbt as vbt\n",
    "import vectorbt.generic.nb as nb\n",
    "import talib \n",
    "\n",
    "import sys\n",
    "import os\n",
    "function_essential_path = r\"H:\\Desktop\\Environement_Trading_Developement\\FunctionEssential\"\n",
    "sys.path.append(function_essential_path)\n",
    "import utils as us\n"
   ]
  },
  {
   "cell_type": "code",
   "execution_count": null,
   "metadata": {},
   "outputs": [],
   "source": [
    "##FONCTION##"
   ]
  },
  {
   "cell_type": "code",
   "execution_count": null,
   "metadata": {},
   "outputs": [],
   "source": [
    "##FONCTION LOGIQUE SIGNALS##"
   ]
  },
  {
   "cell_type": "code",
   "execution_count": null,
   "metadata": {},
   "outputs": [],
   "source": [
    "##INDICATEUR FACTORY##"
   ]
  },
  {
   "cell_type": "code",
   "execution_count": 1,
   "metadata": {},
   "outputs": [],
   "source": [
    "##CLASS STRATEGIE##\n",
    "\n",
    "class Strategie():\n",
    "\n",
    "\n",
    "    def __init__(self,data,tickers,frequence_exec,frequence,multitimeframe):\n",
    "        self.data = data\n",
    "        self.tickers = tickers\n",
    "        self.frequence_exec = frequence_exec\n",
    "        self.frequences = frequence\n",
    "        self.multitimeframe = multitimeframe   ## Si 0 pas de multitimeframe si 1 multitimeframe\n",
    "\n",
    "    def backtest(self):\n",
    "        entries_long_df = pd.DataFrame()\n",
    "        entries_short_df = pd.DataFrame()\n",
    "        exits_long_df = pd.DataFrame()\n",
    "        exits_short_df = pd.DataFrame()\n",
    "        close_df = pd.DataFrame()\n",
    "\n",
    "        for ticker in self.tickers:\n",
    "            data = self.data[ticker]\n",
    "\n",
    "            liste_value = self.make_value()\n",
    "            long,short = self.make_entries()\n",
    "            exits_long,exits_short = self.make_exits()\n",
    "\n",
    "            #Reset les index pour tout normaliser\n",
    "            long = long.reset_index(drop=True)\n",
    "            short = short.reset_index(drop=True)\n",
    "            exits_long = exits_long.reset_index(drop=True)\n",
    "            exits_short = exits_short.reset_index(drop=True)\n",
    "            close = data['close'].reset_index(drop=True)\n",
    "            #enregistrer dans des dataframes \n",
    "            entries_long_df[ticker] = long\n",
    "            entries_short_df[ticker] = short\n",
    "            exits_long_df[ticker] = exits_long\n",
    "            exits_short_df[ticker] = exits_short\n",
    "            close_df[ticker] = close\n",
    "        \n",
    "        #remplacer les 0 qui ont état mis durant import data\n",
    "        close_df = close_df.replace(0, None).fillna(method='ffill')\n",
    "        portfolio = vbt.Portfolio.from_signals(\n",
    "            close_df,\n",
    "            entries_long_df,\n",
    "            exits_long_df,\n",
    "            entries_short_df,\n",
    "            exits_short_df,\n",
    "            freq=self.frequence_exec\n",
    "        )\n",
    "        us.generate_portfolio_report(portfolio,close_df)\n",
    "        us.get_pnl(portfolio)\n",
    "        return portfolio\n",
    "\n",
    "    def optimize(self,metrics,choice,period1,period2,params1):\n",
    "        dataframe_save = {}   # Dans le cadre d'un multi Asset ca va venir enregistrer le df de l'optimisation -> Puis faire un mean -> Voir le parametre qui fonctionne le mieux sur tous\n",
    "        if choice == 1:\n",
    "            entries_df = pd.DataFrame()\n",
    "            exits_df = pd.DataFrame()\n",
    "            for ticker in self.list_tickers:\n",
    "\n",
    "                entries_df = entries_df[0:0]\n",
    "                exits_df = exits_df[0:0]\n",
    "                data = self.data[ticker]\n",
    "                liste_value = self.make_value_no_combi()\n",
    "\n",
    "                for i in range(params1.shape[1]):  ## Ici tu boucles sur le paramètre que tu veux opti / Il peut y avoir deux boucles si tu opti deux params !\n",
    "                    params1_1D = params1.iloc[:, i]\n",
    "                    liste_value[0] =  params1_1D\n",
    "                    entries = self.make_entries()\n",
    "                    exits = self.make_exits()\n",
    "\n",
    "                    #Important a pas toucher\n",
    "                    entries_df[i] = entries \n",
    "                    exits_df[i] = exits\n",
    "                    #-----------------------#\n",
    "\n",
    "                # Important a note !! Pour pas avoir d'erreur ensuite les noms des colonnes de entries et exits doivent avoir des index de 0 a n (0,1,2,3 etc)\n",
    "                # Si tu as un soucis avec la suite apres le backtest regarde les indices de entries et exits\n",
    "\n",
    "                close = data['close']\n",
    "                close_df = close.replace(0, None).fillna(method='ffill')\n",
    "                portfolio = vbt.Portfolio.from_signals(\n",
    "                     close_df,\n",
    "                     entries_df,\n",
    "                     exits_df,\n",
    "                     freq= self.frequence,\n",
    "                     slippage=0.0005\n",
    "                )\n",
    "                combinaison = fe.get_combinaison(period1,period2)\n",
    "                df = fe.get_df_optimisation_parameter(combinaison,portfolio,metrics)\n",
    "                dataframe_save[ticker] = df\n",
    "\n",
    "\n",
    "\n",
    "        if choice == 2:\n",
    "\n",
    "            pass\n",
    "\n",
    "    def make_entries(self):\n",
    "        pass\n",
    "\n",
    "    def make_exits(self):\n",
    "        pass\n",
    "\n",
    "    def make_value(self,data):\n",
    "        if self.multitimeframe == 1:\n",
    "            result = {}\n",
    "            for tf in self.frequences:\n",
    "                data = data[tf]\n",
    "                # exemple :   rsi = vbt.RSI.run(close,windows=14)\n",
    "                # result[f\"{tf}+indicateur_name\"] = rsi\n",
    "            #une fois tout les indicateurs calculer tu dois les mettres sur le meme index, tu prends la valeurs la timeframe la plus petite et tu bases toute les autres sur celle ci\n",
    "        else:\n",
    "            pass"
   ]
  },
  {
   "cell_type": "code",
   "execution_count": null,
   "metadata": {},
   "outputs": [],
   "source": [
    "##UTILISATION DE LA STRAT##"
   ]
  }
 ],
 "metadata": {
  "kernelspec": {
   "display_name": "Python 3",
   "language": "python",
   "name": "python3"
  },
  "language_info": {
   "codemirror_mode": {
    "name": "ipython",
    "version": 3
   },
   "file_extension": ".py",
   "mimetype": "text/x-python",
   "name": "python",
   "nbconvert_exporter": "python",
   "pygments_lexer": "ipython3",
   "version": "3.12.4"
  }
 },
 "nbformat": 4,
 "nbformat_minor": 2
}
